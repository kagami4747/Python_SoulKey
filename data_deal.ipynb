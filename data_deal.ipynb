{
 "cells": [
  {
   "cell_type": "code",
   "execution_count": 1,
   "id": "f1ec1cf1-24d1-4583-b1ec-f987612a4f9e",
   "metadata": {},
   "outputs": [],
   "source": [
    "# 将字符串格式调整为首字母大写，其余字母小写"
   ]
  },
  {
   "cell_type": "code",
   "execution_count": 29,
   "id": "81f3d8ff-0c96-43ba-b5a9-28a8981ed3a6",
   "metadata": {},
   "outputs": [
    {
     "name": "stdout",
     "output_type": "stream",
     "text": [
      "处理完成。输出已保存到 output_24_0321.txt\n"
     ]
    }
   ],
   "source": [
    "# 转换函数，将每个单词的首字母大写，其他字母小写\n",
    "def capitalize_words(s):\n",
    "    return ' '.join(word.capitalize() for word in s.split())\n",
    "\n",
    "# 读取 txt 文件，并处理字符串\n",
    "input_file_name = 'input_24_0321.txt'\n",
    "output_file_name = 'output_24_0321.txt'\n",
    "\n",
    "with open(input_file_name, 'r', encoding='utf-8') as input_file, \\\n",
    "     open(output_file_name, 'w', encoding='utf-8') as output_file:\n",
    "    # 读取第一行（标题行），假设它是 \"name\"\n",
    "    title = input_file.readline().strip()\n",
    "    output_file.write(title + '\\n')  # 将标题写入输出文件\n",
    "\n",
    "    # 逐行读取剩余的字符串，处理并写入 txt\n",
    "    for line in input_file:\n",
    "        original_text = line.strip()\n",
    "        processed_text = capitalize_words(original_text)\n",
    "        output_file.write(processed_text + '\\n')  # 写入处理过的字符串和换行符\n",
    "\n",
    "print(\"处理完成。输出已保存到 \" + output_file_name)"
   ]
  }
 ],
 "metadata": {
  "kernelspec": {
   "display_name": "Python 3 (ipykernel)",
   "language": "python",
   "name": "python3"
  },
  "language_info": {
   "codemirror_mode": {
    "name": "ipython",
    "version": 3
   },
   "file_extension": ".py",
   "mimetype": "text/x-python",
   "name": "python",
   "nbconvert_exporter": "python",
   "pygments_lexer": "ipython3",
   "version": "3.11.7"
  }
 },
 "nbformat": 4,
 "nbformat_minor": 5
}
